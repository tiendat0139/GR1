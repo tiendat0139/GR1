{
 "cells": [
  {
   "cell_type": "markdown",
   "id": "7b53bae0-3129-4bcc-8416-99c9fbda03a5",
   "metadata": {},
   "source": [
    "## Random Forest trong dự báo năng lượng"
   ]
  },
  {
   "cell_type": "markdown",
   "id": "1284dc99-8bc3-4a6c-94f3-6ccbbbfa85ce",
   "metadata": {},
   "source": [
    "### Read dataset"
   ]
  },
  {
   "cell_type": "code",
   "execution_count": 19,
   "id": "9e2f55bb-2dc0-41ac-92f3-30866167cda6",
   "metadata": {},
   "outputs": [],
   "source": [
    "import numpy as np\n",
    "import pandas as pd\n",
    "data = pd.read_csv(\"./energy.csv\")"
   ]
  },
  {
   "cell_type": "code",
   "execution_count": 13,
   "id": "68b91c45-e1f7-4369-8aab-6c6a6099393f",
   "metadata": {},
   "outputs": [
    {
     "data": {
      "text/html": [
       "<div>\n",
       "<style scoped>\n",
       "    .dataframe tbody tr th:only-of-type {\n",
       "        vertical-align: middle;\n",
       "    }\n",
       "\n",
       "    .dataframe tbody tr th {\n",
       "        vertical-align: top;\n",
       "    }\n",
       "\n",
       "    .dataframe thead th {\n",
       "        text-align: right;\n",
       "    }\n",
       "</style>\n",
       "<table border=\"1\" class=\"dataframe\">\n",
       "  <thead>\n",
       "    <tr style=\"text-align: right;\">\n",
       "      <th></th>\n",
       "      <th>Time</th>\n",
       "      <th>Power consumption</th>\n",
       "    </tr>\n",
       "  </thead>\n",
       "  <tbody>\n",
       "    <tr>\n",
       "      <th>0</th>\n",
       "      <td>2019-03-01 0:00</td>\n",
       "      <td>10011.84</td>\n",
       "    </tr>\n",
       "    <tr>\n",
       "      <th>1</th>\n",
       "      <td>2019-03-01 0:01</td>\n",
       "      <td>10119.32</td>\n",
       "    </tr>\n",
       "    <tr>\n",
       "      <th>2</th>\n",
       "      <td>2019-03-01 0:02</td>\n",
       "      <td>9433.59</td>\n",
       "    </tr>\n",
       "    <tr>\n",
       "      <th>3</th>\n",
       "      <td>2019-03-01 0:03</td>\n",
       "      <td>10213.93</td>\n",
       "    </tr>\n",
       "    <tr>\n",
       "      <th>4</th>\n",
       "      <td>2019-03-01 0:04</td>\n",
       "      <td>10026.23</td>\n",
       "    </tr>\n",
       "  </tbody>\n",
       "</table>\n",
       "</div>"
      ],
      "text/plain": [
       "              Time  Power consumption\n",
       "0  2019-03-01 0:00           10011.84\n",
       "1  2019-03-01 0:01           10119.32\n",
       "2  2019-03-01 0:02            9433.59\n",
       "3  2019-03-01 0:03           10213.93\n",
       "4  2019-03-01 0:04           10026.23"
      ]
     },
     "execution_count": 13,
     "metadata": {},
     "output_type": "execute_result"
    }
   ],
   "source": [
    "data.head()"
   ]
  },
  {
   "cell_type": "markdown",
   "id": "984ac7c9-a892-4155-b500-34d7777d31ac",
   "metadata": {},
   "source": [
    "### Convert time series to supervised"
   ]
  },
  {
   "cell_type": "code",
   "execution_count": 10,
   "id": "3546ce1b-e040-4b7e-90ce-8f1cfcf27816",
   "metadata": {},
   "outputs": [],
   "source": [
    "\"\"\"\n",
    "\tFrame a time series as a supervised learning dataset.\n",
    "\tArguments:\n",
    "\t\tdata: Sequence of observations as a list or NumPy array.\n",
    "\t\tn_in: Number of lag observations as input (X).\n",
    "\t\tn_out: Number of observations as output (y).\n",
    "\t\tdropnan: Boolean whether or not to drop rows with NaN values.\n",
    "\tReturns:\n",
    "\t\tPandas DataFrame of series framed for supervised learning.\n",
    "\t\"\"\"\n",
    "def series_to_supervised(data, n_in=1, n_out=1, dropnan=True):\n",
    "    n_vars = 1 if type(data) is list else data.shape[1]\n",
    "    dff = pd.DataFrame(data)\n",
    "    cols, names = list(), list()\n",
    "    for i in range(n_in, 0, -1):\n",
    "        cols.append(dff.shift(-i))\n",
    "        names += [('var%d(t-%d)' % (j+1, i)) for j in range(n_vars)]\n",
    "    for i in range(0, n_out):\n",
    "        cols.append(dff.shift(-i))\n",
    "        if i==0:\n",
    "            names += [('var%d(t)' % (j+1)) for j in range(n_vars)]\n",
    "        else:\n",
    "            names += [('var%d(t+%d)' % (j+1)) for j in range(n_vars)]        \n",
    "        agg = pd.concat(cols, axis=1)\n",
    "        agg.columns = names\n",
    "        if dropnan:\n",
    "            agg.dropna(inplace=True)\n",
    "        return agg"
   ]
  },
  {
   "cell_type": "markdown",
   "id": "ae577d5d-dadd-4704-87ca-7150b7f4da84",
   "metadata": {},
   "source": [
    "### Data scaling"
   ]
  },
  {
   "cell_type": "code",
   "execution_count": 23,
   "id": "a6ee012e-4a4f-44f9-99df-3ab1393ffaee",
   "metadata": {},
   "outputs": [
    {
     "data": {
      "text/html": [
       "<div>\n",
       "<style scoped>\n",
       "    .dataframe tbody tr th:only-of-type {\n",
       "        vertical-align: middle;\n",
       "    }\n",
       "\n",
       "    .dataframe tbody tr th {\n",
       "        vertical-align: top;\n",
       "    }\n",
       "\n",
       "    .dataframe thead th {\n",
       "        text-align: right;\n",
       "    }\n",
       "</style>\n",
       "<table border=\"1\" class=\"dataframe\">\n",
       "  <thead>\n",
       "    <tr style=\"text-align: right;\">\n",
       "      <th></th>\n",
       "      <th>var1(t-5)</th>\n",
       "      <th>var1(t-4)</th>\n",
       "      <th>var1(t-3)</th>\n",
       "      <th>var1(t-2)</th>\n",
       "      <th>var1(t-1)</th>\n",
       "      <th>var1(t)</th>\n",
       "    </tr>\n",
       "  </thead>\n",
       "  <tbody>\n",
       "    <tr>\n",
       "      <th>0</th>\n",
       "      <td>0.707974</td>\n",
       "      <td>0.669923</td>\n",
       "      <td>0.682464</td>\n",
       "      <td>0.630324</td>\n",
       "      <td>0.676143</td>\n",
       "      <td>0.668961</td>\n",
       "    </tr>\n",
       "    <tr>\n",
       "      <th>1</th>\n",
       "      <td>0.720851</td>\n",
       "      <td>0.707974</td>\n",
       "      <td>0.669923</td>\n",
       "      <td>0.682464</td>\n",
       "      <td>0.630324</td>\n",
       "      <td>0.676143</td>\n",
       "    </tr>\n",
       "    <tr>\n",
       "      <th>2</th>\n",
       "      <td>0.712798</td>\n",
       "      <td>0.720851</td>\n",
       "      <td>0.707974</td>\n",
       "      <td>0.669923</td>\n",
       "      <td>0.682464</td>\n",
       "      <td>0.630324</td>\n",
       "    </tr>\n",
       "    <tr>\n",
       "      <th>3</th>\n",
       "      <td>0.669816</td>\n",
       "      <td>0.712798</td>\n",
       "      <td>0.720851</td>\n",
       "      <td>0.707974</td>\n",
       "      <td>0.669923</td>\n",
       "      <td>0.682464</td>\n",
       "    </tr>\n",
       "    <tr>\n",
       "      <th>4</th>\n",
       "      <td>0.663816</td>\n",
       "      <td>0.669816</td>\n",
       "      <td>0.712798</td>\n",
       "      <td>0.720851</td>\n",
       "      <td>0.707974</td>\n",
       "      <td>0.669923</td>\n",
       "    </tr>\n",
       "    <tr>\n",
       "      <th>...</th>\n",
       "      <td>...</td>\n",
       "      <td>...</td>\n",
       "      <td>...</td>\n",
       "      <td>...</td>\n",
       "      <td>...</td>\n",
       "      <td>...</td>\n",
       "    </tr>\n",
       "    <tr>\n",
       "      <th>308150</th>\n",
       "      <td>0.598492</td>\n",
       "      <td>0.601722</td>\n",
       "      <td>0.625437</td>\n",
       "      <td>0.642619</td>\n",
       "      <td>0.643162</td>\n",
       "      <td>0.650112</td>\n",
       "    </tr>\n",
       "    <tr>\n",
       "      <th>308151</th>\n",
       "      <td>0.587078</td>\n",
       "      <td>0.598492</td>\n",
       "      <td>0.601722</td>\n",
       "      <td>0.625437</td>\n",
       "      <td>0.642619</td>\n",
       "      <td>0.643162</td>\n",
       "    </tr>\n",
       "    <tr>\n",
       "      <th>308152</th>\n",
       "      <td>0.583641</td>\n",
       "      <td>0.587078</td>\n",
       "      <td>0.598492</td>\n",
       "      <td>0.601722</td>\n",
       "      <td>0.625437</td>\n",
       "      <td>0.642619</td>\n",
       "    </tr>\n",
       "    <tr>\n",
       "      <th>308153</th>\n",
       "      <td>0.589995</td>\n",
       "      <td>0.583641</td>\n",
       "      <td>0.587078</td>\n",
       "      <td>0.598492</td>\n",
       "      <td>0.601722</td>\n",
       "      <td>0.625437</td>\n",
       "    </tr>\n",
       "    <tr>\n",
       "      <th>308154</th>\n",
       "      <td>0.591320</td>\n",
       "      <td>0.589995</td>\n",
       "      <td>0.583641</td>\n",
       "      <td>0.587078</td>\n",
       "      <td>0.598492</td>\n",
       "      <td>0.601722</td>\n",
       "    </tr>\n",
       "  </tbody>\n",
       "</table>\n",
       "<p>308155 rows × 6 columns</p>\n",
       "</div>"
      ],
      "text/plain": [
       "        var1(t-5)  var1(t-4)  var1(t-3)  var1(t-2)  var1(t-1)   var1(t)\n",
       "0        0.707974   0.669923   0.682464   0.630324   0.676143  0.668961\n",
       "1        0.720851   0.707974   0.669923   0.682464   0.630324  0.676143\n",
       "2        0.712798   0.720851   0.707974   0.669923   0.682464  0.630324\n",
       "3        0.669816   0.712798   0.720851   0.707974   0.669923  0.682464\n",
       "4        0.663816   0.669816   0.712798   0.720851   0.707974  0.669923\n",
       "...           ...        ...        ...        ...        ...       ...\n",
       "308150   0.598492   0.601722   0.625437   0.642619   0.643162  0.650112\n",
       "308151   0.587078   0.598492   0.601722   0.625437   0.642619  0.643162\n",
       "308152   0.583641   0.587078   0.598492   0.601722   0.625437  0.642619\n",
       "308153   0.589995   0.583641   0.587078   0.598492   0.601722  0.625437\n",
       "308154   0.591320   0.589995   0.583641   0.587078   0.598492  0.601722\n",
       "\n",
       "[308155 rows x 6 columns]"
      ]
     },
     "execution_count": 23,
     "metadata": {},
     "output_type": "execute_result"
    }
   ],
   "source": [
    "from sklearn.preprocessing import MinMaxScaler\n",
    "\n",
    "# Chuẩn hóa dữ liệu về đoạn [0,1]\n",
    "df = pd.DataFrame(data, columns=[\"Power consumption\"])\n",
    "values = df.values\n",
    "scaler = MinMaxScaler(feature_range=(0,1))\n",
    "scaled = scaler.fit_transform(values)\n",
    "\n",
    "reframed = series_to_supervised(scaled, 5,1 )\n",
    "r = list(range(df.shape[1]+1, 2*df.shape[1]))\n",
    "reframed.drop(reframed.columns[r], axis=1, inplace=True)\n",
    "reframed"
   ]
  },
  {
   "cell_type": "markdown",
   "id": "6447d111-1544-47ef-a653-fb6ec9c89c72",
   "metadata": {},
   "source": [
    "### Split dataset to train and test"
   ]
  },
  {
   "cell_type": "code",
   "execution_count": 24,
   "id": "e8d7594d-5e9c-465d-85a7-28ec3b28ff14",
   "metadata": {},
   "outputs": [],
   "source": [
    "values = reframed.values\n",
    "n_train_time = 50000\n",
    "train = values[:n_train_time, :]\n",
    "test = values[n_train_time:, :]\n",
    "train_x, train_y = train[:, :-1], train[:, -1]   # train_x: n-1 cột đầu tiên, train_y: cột cuối cùng (operation)\n",
    "test_x, test_y = test[:, :-1], test[:, -1]"
   ]
  },
  {
   "cell_type": "markdown",
   "id": "75918a7b-f385-4849-b766-275b9d9a721c",
   "metadata": {},
   "source": [
    "### Build and fit model"
   ]
  },
  {
   "cell_type": "code",
   "execution_count": null,
   "id": "413893a7-942d-4c5c-b1e0-ad2c5679f59e",
   "metadata": {
    "scrolled": true
   },
   "outputs": [],
   "source": [
    "from sklearn.ensemble import RandomForestRegressor\n",
    "regressor = RandomForestRegressor(n_estimators=200, random_state=0)\n",
    "regressor.fit(train_x,train_y)"
   ]
  },
  {
   "cell_type": "markdown",
   "id": "5629fe29-159b-44cd-b645-72eac949e045",
   "metadata": {},
   "source": [
    "### Predict"
   ]
  },
  {
   "cell_type": "code",
   "execution_count": 26,
   "id": "f3f50d81-7edd-4de8-8e61-e6bd18ebb010",
   "metadata": {},
   "outputs": [],
   "source": [
    "predict_y = regressor.predict(test_x)"
   ]
  },
  {
   "cell_type": "markdown",
   "id": "6192609d-94fa-467e-9f91-0893c9a73fa9",
   "metadata": {},
   "source": [
    "### Evaluate"
   ]
  },
  {
   "cell_type": "code",
   "execution_count": 28,
   "id": "3a0230a7-07fd-4160-ab5e-0b4385f98150",
   "metadata": {},
   "outputs": [
    {
     "name": "stdout",
     "output_type": "stream",
     "text": [
      "Test RSME: 724.756\n"
     ]
    }
   ],
   "source": [
    "from keras.models import load_model\n",
    "from sklearn.metrics import mean_squared_error, r2_score\n",
    "\n",
    "size = df.shape[1]\n",
    "\n",
    "yhat = predict_y.reshape(predict_y.shape[0],1)\n",
    "test_x = test_x.reshape(test_x.shape[0], size * 5)\n",
    "\n",
    "# invert scalling\n",
    "inv_yhat = np.concatenate((yhat, test_x[:,1-size * 5:]), axis=1)\n",
    "inv_yhat = scaler.inverse_transform(inv_yhat)\n",
    "inv_yhat = inv_yhat[:,0]\n",
    "\n",
    "test_y = test_y.reshape(len(test_y), 1)\n",
    "inv_y = np.concatenate((test_y, test_x[:, 1-size * 5:]), axis=1)\n",
    "inv_y = scaler.inverse_transform(inv_y)\n",
    "inv_y = inv_y[:,0]\n",
    "\n",
    "# caculate RSME\n",
    "rmse = np.sqrt(mean_squared_error(inv_y, inv_yhat))\n",
    "print('Test RSME: %.3f' % rmse)"
   ]
  },
  {
   "cell_type": "code",
   "execution_count": null,
   "id": "337b9420-39bb-4bc5-9d29-7fb1378e9475",
   "metadata": {},
   "outputs": [],
   "source": []
  }
 ],
 "metadata": {
  "kernelspec": {
   "display_name": "Python 3 (ipykernel)",
   "language": "python",
   "name": "python3"
  },
  "language_info": {
   "codemirror_mode": {
    "name": "ipython",
    "version": 3
   },
   "file_extension": ".py",
   "mimetype": "text/x-python",
   "name": "python",
   "nbconvert_exporter": "python",
   "pygments_lexer": "ipython3",
   "version": "3.10.0"
  }
 },
 "nbformat": 4,
 "nbformat_minor": 5
}
