{
 "cells": [
  {
   "cell_type": "markdown",
   "id": "875b49e0-ecdc-4e09-96f4-74813f38d49a",
   "metadata": {},
   "source": [
    "## Random Forest in predictive maintenance"
   ]
  },
  {
   "cell_type": "markdown",
   "id": "84780111-462e-4eab-b589-e0f757d79a7e",
   "metadata": {},
   "source": [
    "### Read dataset"
   ]
  },
  {
   "cell_type": "code",
   "execution_count": null,
   "id": "cde29085-b9b5-4f16-b482-3cb106001d5e",
   "metadata": {},
   "outputs": [],
   "source": [
    "import pandas as pd\n",
    "data = pd.read_csv(\"./sensor.csv\")"
   ]
  },
  {
   "cell_type": "markdown",
   "id": "6e6170ff-b45e-4e7b-8649-a729be78f9fb",
   "metadata": {},
   "source": [
    "### Data pre-processing"
   ]
  },
  {
   "cell_type": "markdown",
   "id": "793c13a5-32a0-4092-bf13-f17610ec193c",
   "metadata": {},
   "source": [
    "#### Drop invalid data"
   ]
  },
  {
   "cell_type": "code",
   "execution_count": null,
   "id": "ea2aaa11-0954-4f67-a374-426248a3706b",
   "metadata": {},
   "outputs": [],
   "source": [
    "data.drop(['Unnamed: 0', 'timestamp', 'sensor_00', 'sensor_15','sensor_50', 'sensor_51'], axis=1, inplace=True)"
   ]
  },
  {
   "cell_type": "code",
   "execution_count": null,
   "id": "b686764c-6e77-4f11-9ea3-da71733c7500",
   "metadata": {},
   "outputs": [],
   "source": [
    "import numpy as np\n",
    "conditions = [(data['machine_status'] == 'NORMAL'), (data['machine_status'] == 'BROKEN'), (data['machine_status'] == 'RECOVERING')]\n",
    "choices = [1, 0, 0.5]\n",
    "# create new column \"Operation\"\n",
    "data['Operation'] = np.select(conditions,choices, default=0)"
   ]
  },
  {
   "cell_type": "code",
   "execution_count": null,
   "id": "3eea93cb-9405-4f9e-b9e0-9b3fccc251f5",
   "metadata": {},
   "outputs": [],
   "source": [
    "df = pd.DataFrame(data, columns=['Operation','sensor_04', 'sensor_06', 'sensor_07', 'sensor_08', 'sensor_09'])"
   ]
  },
  {
   "cell_type": "markdown",
   "id": "091c265a-72fe-46fb-a065-63e576a2d180",
   "metadata": {},
   "source": [
    "#### Convert time series to supervised"
   ]
  },
  {
   "cell_type": "code",
   "execution_count": 41,
   "id": "aa2362ab-cf32-4063-928a-6892c397bab2",
   "metadata": {},
   "outputs": [],
   "source": [
    "\"\"\"\n",
    "\tFrame a time series as a supervised learning dataset.\n",
    "\tArguments:\n",
    "\t\tdata: Sequence of observations as a list or NumPy array.\n",
    "\t\tn_in: Number of lag observations as input (X).\n",
    "\t\tn_out: Number of observations as output (y).\n",
    "\t\tdropnan: Boolean whether or not to drop rows with NaN values.\n",
    "\tReturns:\n",
    "\t\tPandas DataFrame of series framed for supervised learning.\n",
    "\t\"\"\"\n",
    "def series_to_supervised(data, n_in=1, n_out=1, dropnan=True):\n",
    "    n_vars = 1 if type(data) is list else data.shape[1]\n",
    "    dff = pd.DataFrame(data)\n",
    "    cols, names = list(), list()\n",
    "    for i in range(n_in, 0, -1):\n",
    "        cols.append(dff.shift(-i))\n",
    "        names += [('var%d(t-%d)' % (j+1, i)) for j in range(n_vars)]\n",
    "    for i in range(0, n_out):\n",
    "        cols.append(dff.shift(-i))\n",
    "        if i==0:\n",
    "            names += [('var%d(t)' % (j+1)) for j in range(n_vars)]\n",
    "        else:\n",
    "            names += [('var%d(t+%d)' % (j+1)) for j in range(n_vars)]        \n",
    "        agg = pd.concat(cols, axis=1)\n",
    "        agg.columns = names\n",
    "        if dropnan:\n",
    "            agg.dropna(inplace=True)\n",
    "        return agg"
   ]
  },
  {
   "cell_type": "markdown",
   "id": "1ff430ee-e0aa-41e2-8fdf-27948c42dc05",
   "metadata": {},
   "source": [
    "#### Data scaling"
   ]
  },
  {
   "cell_type": "code",
   "execution_count": 42,
   "id": "0eb35f38-a214-4205-ae25-e255ed9d44f1",
   "metadata": {},
   "outputs": [
    {
     "data": {
      "text/plain": [
       "array([[1.        , 0.79224211, 0.60247235, 0.68362953, 0.63890538,\n",
       "        0.6021412 ],\n",
       "       [1.        , 0.79224211, 0.60247235, 0.68362953, 0.63890538,\n",
       "        0.6021412 ],\n",
       "       [1.        , 0.79790429, 0.59856845, 0.67964464, 0.64098762,\n",
       "        0.6004052 ],\n",
       "       ...,\n",
       "       [1.        , 0.78164367, 0.67794401, 0.70784824, 0.64425941,\n",
       "        0.6047452 ],\n",
       "       [1.        , 0.79383907, 0.67924501, 0.70202325, 0.64604395,\n",
       "        0.6047452 ],\n",
       "       [1.        , 0.79906572, 0.67924501, 0.70570217, 0.64247446,\n",
       "        0.6004052 ]])"
      ]
     },
     "execution_count": 42,
     "metadata": {},
     "output_type": "execute_result"
    }
   ],
   "source": [
    "from sklearn.preprocessing import MinMaxScaler\n",
    "\n",
    "# Chuẩn hóa dữ liệu về đoạn [0,1]\n",
    "values = df.values\n",
    "scaler = MinMaxScaler(feature_range=(0,1))\n",
    "scaled = scaler.fit_transform(values)\n",
    "scaled\n",
    "# reframed = series_to_supervised(scaled,1,1)\n",
    "# r = list(range(df.shape[1]+1, 2*df.shape[1]))\n",
    "# reframed.drop(reframed.columns[r], axis=1, inplace=True)\n",
    "# reframed.head()"
   ]
  },
  {
   "cell_type": "code",
   "execution_count": 43,
   "id": "355c80fb-0298-49bb-8a1d-0a13a1caaaba",
   "metadata": {},
   "outputs": [
    {
     "data": {
      "text/html": [
       "<div>\n",
       "<style scoped>\n",
       "    .dataframe tbody tr th:only-of-type {\n",
       "        vertical-align: middle;\n",
       "    }\n",
       "\n",
       "    .dataframe tbody tr th {\n",
       "        vertical-align: top;\n",
       "    }\n",
       "\n",
       "    .dataframe thead th {\n",
       "        text-align: right;\n",
       "    }\n",
       "</style>\n",
       "<table border=\"1\" class=\"dataframe\">\n",
       "  <thead>\n",
       "    <tr style=\"text-align: right;\">\n",
       "      <th></th>\n",
       "      <th>var1(t-1)</th>\n",
       "      <th>var2(t-1)</th>\n",
       "      <th>var3(t-1)</th>\n",
       "      <th>var4(t-1)</th>\n",
       "      <th>var5(t-1)</th>\n",
       "      <th>var6(t-1)</th>\n",
       "      <th>var1(t)</th>\n",
       "    </tr>\n",
       "  </thead>\n",
       "  <tbody>\n",
       "    <tr>\n",
       "      <th>0</th>\n",
       "      <td>1.0</td>\n",
       "      <td>0.792242</td>\n",
       "      <td>0.602472</td>\n",
       "      <td>0.683630</td>\n",
       "      <td>0.638905</td>\n",
       "      <td>0.602141</td>\n",
       "      <td>1.0</td>\n",
       "    </tr>\n",
       "    <tr>\n",
       "      <th>1</th>\n",
       "      <td>1.0</td>\n",
       "      <td>0.797904</td>\n",
       "      <td>0.598568</td>\n",
       "      <td>0.679645</td>\n",
       "      <td>0.640988</td>\n",
       "      <td>0.600405</td>\n",
       "      <td>1.0</td>\n",
       "    </tr>\n",
       "    <tr>\n",
       "      <th>2</th>\n",
       "      <td>1.0</td>\n",
       "      <td>0.784402</td>\n",
       "      <td>0.598243</td>\n",
       "      <td>0.688535</td>\n",
       "      <td>0.644259</td>\n",
       "      <td>0.603299</td>\n",
       "      <td>1.0</td>\n",
       "    </tr>\n",
       "    <tr>\n",
       "      <th>3</th>\n",
       "      <td>1.0</td>\n",
       "      <td>0.794855</td>\n",
       "      <td>0.599870</td>\n",
       "      <td>0.687002</td>\n",
       "      <td>0.644259</td>\n",
       "      <td>0.603299</td>\n",
       "      <td>1.0</td>\n",
       "    </tr>\n",
       "    <tr>\n",
       "      <th>4</th>\n",
       "      <td>1.0</td>\n",
       "      <td>0.796307</td>\n",
       "      <td>0.602472</td>\n",
       "      <td>0.685162</td>\n",
       "      <td>0.652290</td>\n",
       "      <td>0.606482</td>\n",
       "      <td>1.0</td>\n",
       "    </tr>\n",
       "  </tbody>\n",
       "</table>\n",
       "</div>"
      ],
      "text/plain": [
       "   var1(t-1)  var2(t-1)  var3(t-1)  var4(t-1)  var5(t-1)  var6(t-1)  var1(t)\n",
       "0        1.0   0.792242   0.602472   0.683630   0.638905   0.602141      1.0\n",
       "1        1.0   0.797904   0.598568   0.679645   0.640988   0.600405      1.0\n",
       "2        1.0   0.784402   0.598243   0.688535   0.644259   0.603299      1.0\n",
       "3        1.0   0.794855   0.599870   0.687002   0.644259   0.603299      1.0\n",
       "4        1.0   0.796307   0.602472   0.685162   0.652290   0.606482      1.0"
      ]
     },
     "execution_count": 43,
     "metadata": {},
     "output_type": "execute_result"
    }
   ],
   "source": [
    "reframed = series_to_supervised(scaled,1,1)\n",
    "r = list(range(df.shape[1]+1, 2*df.shape[1]))\n",
    "reframed.drop(reframed.columns[r], axis=1, inplace=True)\n",
    "reframed.head()"
   ]
  },
  {
   "cell_type": "markdown",
   "id": "877675ee-472a-4873-aa78-802053aca3b1",
   "metadata": {},
   "source": [
    "#### Split dataset to train and test"
   ]
  },
  {
   "cell_type": "code",
   "execution_count": 44,
   "id": "63494304-66bc-4ecc-9e7c-79d1986668f6",
   "metadata": {},
   "outputs": [],
   "source": [
    "values = reframed.values\n",
    "n_train_time = 50000\n",
    "train = values[:n_train_time, :]\n",
    "test = values[n_train_time:, :]\n",
    "train_x, train_y = train[:, :-1], train[:, -1]   # train_x: n-1 cột đầu tiên, train_y: cột cuối cùng (operation)\n",
    "test_x, test_y = test[:, :-1], test[:, -1]"
   ]
  },
  {
   "cell_type": "markdown",
   "id": "9a5111d1-9286-43b9-a39e-34088e86c06c",
   "metadata": {},
   "source": [
    "### Build model"
   ]
  },
  {
   "cell_type": "markdown",
   "id": "e270d066-65ac-4d71-89d1-99cd3da13733",
   "metadata": {},
   "source": [
    "#### Build and fit model"
   ]
  },
  {
   "cell_type": "code",
   "execution_count": 29,
   "id": "979977b3-9e72-4b21-ad3e-a6e8b5184c55",
   "metadata": {},
   "outputs": [
    {
     "name": "stdout",
     "output_type": "stream",
     "text": [
      "RandomForestRegressor(max_depth=3, max_features=None, max_leaf_nodes=9,\n",
      "                      n_estimators=150)\n"
     ]
    }
   ],
   "source": [
    "from sklearn.model_selection import GridSearchCV, RandomizedSearchCV\n",
    "from sklearn.ensemble import RandomForestRegressor\n",
    "\n",
    "param_grid = {\n",
    "    'n_estimators': [25, 50, 100, 150, 200, 250],\n",
    "    'max_features': ['sqrt', 'log2', None],\n",
    "    'max_depth': [3, 6, 9],\n",
    "    'max_leaf_nodes': [3, 6, 9],\n",
    "}\n",
    "grid_search = GridSearchCV(RandomForestRegressor(),\n",
    "                           param_grid=param_grid)\n",
    "grid_search.fit(train_x,train_y)\n",
    "print(grid_search.best_estimator_)"
   ]
  },
  {
   "cell_type": "markdown",
   "id": "92a80dad-1532-47ef-be37-49577cc7b6f3",
   "metadata": {},
   "source": [
    "### Fit model with best params"
   ]
  },
  {
   "cell_type": "code",
   "execution_count": 45,
   "id": "b8f79b73-96ad-4d09-b40b-ebe18aa9f3b8",
   "metadata": {},
   "outputs": [
    {
     "data": {
      "text/html": [
       "<style>#sk-container-id-3 {color: black;background-color: white;}#sk-container-id-3 pre{padding: 0;}#sk-container-id-3 div.sk-toggleable {background-color: white;}#sk-container-id-3 label.sk-toggleable__label {cursor: pointer;display: block;width: 100%;margin-bottom: 0;padding: 0.3em;box-sizing: border-box;text-align: center;}#sk-container-id-3 label.sk-toggleable__label-arrow:before {content: \"▸\";float: left;margin-right: 0.25em;color: #696969;}#sk-container-id-3 label.sk-toggleable__label-arrow:hover:before {color: black;}#sk-container-id-3 div.sk-estimator:hover label.sk-toggleable__label-arrow:before {color: black;}#sk-container-id-3 div.sk-toggleable__content {max-height: 0;max-width: 0;overflow: hidden;text-align: left;background-color: #f0f8ff;}#sk-container-id-3 div.sk-toggleable__content pre {margin: 0.2em;color: black;border-radius: 0.25em;background-color: #f0f8ff;}#sk-container-id-3 input.sk-toggleable__control:checked~div.sk-toggleable__content {max-height: 200px;max-width: 100%;overflow: auto;}#sk-container-id-3 input.sk-toggleable__control:checked~label.sk-toggleable__label-arrow:before {content: \"▾\";}#sk-container-id-3 div.sk-estimator input.sk-toggleable__control:checked~label.sk-toggleable__label {background-color: #d4ebff;}#sk-container-id-3 div.sk-label input.sk-toggleable__control:checked~label.sk-toggleable__label {background-color: #d4ebff;}#sk-container-id-3 input.sk-hidden--visually {border: 0;clip: rect(1px 1px 1px 1px);clip: rect(1px, 1px, 1px, 1px);height: 1px;margin: -1px;overflow: hidden;padding: 0;position: absolute;width: 1px;}#sk-container-id-3 div.sk-estimator {font-family: monospace;background-color: #f0f8ff;border: 1px dotted black;border-radius: 0.25em;box-sizing: border-box;margin-bottom: 0.5em;}#sk-container-id-3 div.sk-estimator:hover {background-color: #d4ebff;}#sk-container-id-3 div.sk-parallel-item::after {content: \"\";width: 100%;border-bottom: 1px solid gray;flex-grow: 1;}#sk-container-id-3 div.sk-label:hover label.sk-toggleable__label {background-color: #d4ebff;}#sk-container-id-3 div.sk-serial::before {content: \"\";position: absolute;border-left: 1px solid gray;box-sizing: border-box;top: 0;bottom: 0;left: 50%;z-index: 0;}#sk-container-id-3 div.sk-serial {display: flex;flex-direction: column;align-items: center;background-color: white;padding-right: 0.2em;padding-left: 0.2em;position: relative;}#sk-container-id-3 div.sk-item {position: relative;z-index: 1;}#sk-container-id-3 div.sk-parallel {display: flex;align-items: stretch;justify-content: center;background-color: white;position: relative;}#sk-container-id-3 div.sk-item::before, #sk-container-id-3 div.sk-parallel-item::before {content: \"\";position: absolute;border-left: 1px solid gray;box-sizing: border-box;top: 0;bottom: 0;left: 50%;z-index: -1;}#sk-container-id-3 div.sk-parallel-item {display: flex;flex-direction: column;z-index: 1;position: relative;background-color: white;}#sk-container-id-3 div.sk-parallel-item:first-child::after {align-self: flex-end;width: 50%;}#sk-container-id-3 div.sk-parallel-item:last-child::after {align-self: flex-start;width: 50%;}#sk-container-id-3 div.sk-parallel-item:only-child::after {width: 0;}#sk-container-id-3 div.sk-dashed-wrapped {border: 1px dashed gray;margin: 0 0.4em 0.5em 0.4em;box-sizing: border-box;padding-bottom: 0.4em;background-color: white;}#sk-container-id-3 div.sk-label label {font-family: monospace;font-weight: bold;display: inline-block;line-height: 1.2em;}#sk-container-id-3 div.sk-label-container {text-align: center;}#sk-container-id-3 div.sk-container {/* jupyter's `normalize.less` sets `[hidden] { display: none; }` but bootstrap.min.css set `[hidden] { display: none !important; }` so we also need the `!important` here to be able to override the default hidden behavior on the sphinx rendered scikit-learn.org. See: https://github.com/scikit-learn/scikit-learn/issues/21755 */display: inline-block !important;position: relative;}#sk-container-id-3 div.sk-text-repr-fallback {display: none;}</style><div id=\"sk-container-id-3\" class=\"sk-top-container\"><div class=\"sk-text-repr-fallback\"><pre>RandomForestRegressor(max_depth=3, max_leaf_nodes=9, n_estimators=150)</pre><b>In a Jupyter environment, please rerun this cell to show the HTML representation or trust the notebook. <br />On GitHub, the HTML representation is unable to render, please try loading this page with nbviewer.org.</b></div><div class=\"sk-container\" hidden><div class=\"sk-item\"><div class=\"sk-estimator sk-toggleable\"><input class=\"sk-toggleable__control sk-hidden--visually\" id=\"sk-estimator-id-3\" type=\"checkbox\" checked><label for=\"sk-estimator-id-3\" class=\"sk-toggleable__label sk-toggleable__label-arrow\">RandomForestRegressor</label><div class=\"sk-toggleable__content\"><pre>RandomForestRegressor(max_depth=3, max_leaf_nodes=9, n_estimators=150)</pre></div></div></div></div></div>"
      ],
      "text/plain": [
       "RandomForestRegressor(max_depth=3, max_leaf_nodes=9, n_estimators=150)"
      ]
     },
     "execution_count": 45,
     "metadata": {},
     "output_type": "execute_result"
    }
   ],
   "source": [
    "from sklearn.ensemble import RandomForestRegressor\n",
    "regressor = RandomForestRegressor(max_depth=3,max_leaf_nodes=9,n_estimators=150)\n",
    "regressor.fit(train_x,train_y)"
   ]
  },
  {
   "cell_type": "markdown",
   "id": "bf8f38ad-2273-42f8-9d8e-7051923131da",
   "metadata": {},
   "source": [
    "#### Predict"
   ]
  },
  {
   "cell_type": "code",
   "execution_count": 46,
   "id": "7f6222ab-7c93-41f2-a2ac-3874c6d5636c",
   "metadata": {},
   "outputs": [],
   "source": [
    "predict_y = regressor.predict(test_x)"
   ]
  },
  {
   "cell_type": "code",
   "execution_count": 47,
   "id": "8513a5e0-626a-49fb-b5db-3668e1a5f811",
   "metadata": {},
   "outputs": [
    {
     "name": "stdout",
     "output_type": "stream",
     "text": [
      "Test RSME: 0.004\n"
     ]
    }
   ],
   "source": [
    "from keras.models import load_model\n",
    "from sklearn.metrics import mean_squared_error, r2_score\n",
    "\n",
    "size = df.shape[1]\n",
    "\n",
    "yhat = predict_y.reshape(predict_y.shape[0],1)\n",
    "test_x = test_x.reshape(test_x.shape[0], size)\n",
    "\n",
    "# invert scalling\n",
    "inv_yhat = np.concatenate((yhat, test_x[:,1-size:]), axis=1)\n",
    "inv_yhat = scaler.inverse_transform(inv_yhat)\n",
    "inv_yhat = inv_yhat[:,0]\n",
    "\n",
    "test_y = test_y.reshape(len(test_y), 1)\n",
    "inv_y = np.concatenate((test_y, test_x[:, 1-size:]), axis=1)\n",
    "inv_y = scaler.inverse_transform(inv_y)\n",
    "inv_y = inv_y[:,0]\n",
    "\n",
    "# caculate RSME\n",
    "rmse = np.sqrt(mean_squared_error(inv_y, inv_yhat))\n",
    "print('Test RSME: %.3f' % rmse)\n"
   ]
  },
  {
   "cell_type": "markdown",
   "id": "c28027dc-fcd2-42ca-a106-31911dd0e9ef",
   "metadata": {},
   "source": [
    "### Evaluate"
   ]
  },
  {
   "cell_type": "code",
   "execution_count": 26,
   "id": "955677b3-89d0-49b9-bc48-c88d5618ac53",
   "metadata": {},
   "outputs": [
    {
     "data": {
      "image/png": "[encoded data removed]",
      "text/plain": [
       "<Figure size 2500x1000 with 1 Axes>"
      ]
     },
     "metadata": {},
     "output_type": "display_data"
    }
   ],
   "source": [
    "from matplotlib import pyplot as plt\n",
    "plt.figure(figsize=(25,10))\n",
    "plt.plot([x for x in range(1, inv_yhat.shape[0]+1)], inv_yhat, linestyle='-', color='red', label='prediction')\n",
    "plt.plot([x for x in range(1, inv_y.shape[0]+1)], inv_y, linestyle='-', color='blue', label='actual')\n",
    "plt.legend(loc=1, prop={'size': 12})\n",
    "plt.show()"
   ]
  },
  {
   "cell_type": "code",
   "execution_count": null,
   "id": "b376d848-59e5-4a81-9c78-db90844e2799",
   "metadata": {},
   "outputs": [],
   "source": []
  }
 ],
 "metadata": {
  "kernelspec": {
   "display_name": "Python 3 (ipykernel)",
   "language": "python",
   "name": "python3"
  },
  "language_info": {
   "codemirror_mode": {
    "name": "ipython",
    "version": 3
   },
   "file_extension": ".py",
   "mimetype": "text/x-python",
   "name": "python",
   "nbconvert_exporter": "python",
   "pygments_lexer": "ipython3",
   "version": "3.10.0"
  }
 },
 "nbformat": 4,
 "nbformat_minor": 5
}
